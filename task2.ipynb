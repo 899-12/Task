{
 "cells": [
  {
   "cell_type": "code",
   "execution_count": 1,
   "metadata": {},
   "outputs": [],
   "source": [
    "import pandas as pd\n"
   ]
  },
  {
   "cell_type": "code",
   "execution_count": 2,
   "metadata": {},
   "outputs": [],
   "source": [
    "\n",
    "data=pd.read_csv(\"C:/Users/aarsh/OneDrive/Desktop/movies.csv\")"
   ]
  },
  {
   "cell_type": "code",
   "execution_count": 3,
   "metadata": {},
   "outputs": [
    {
     "data": {
      "text/html": [
       "<div>\n",
       "<style scoped>\n",
       "    .dataframe tbody tr th:only-of-type {\n",
       "        vertical-align: middle;\n",
       "    }\n",
       "\n",
       "    .dataframe tbody tr th {\n",
       "        vertical-align: top;\n",
       "    }\n",
       "\n",
       "    .dataframe thead th {\n",
       "        text-align: right;\n",
       "    }\n",
       "</style>\n",
       "<table border=\"1\" class=\"dataframe\">\n",
       "  <thead>\n",
       "    <tr style=\"text-align: right;\">\n",
       "      <th></th>\n",
       "      <th>movieId</th>\n",
       "      <th>title</th>\n",
       "      <th>genres</th>\n",
       "    </tr>\n",
       "  </thead>\n",
       "  <tbody>\n",
       "    <tr>\n",
       "      <th>0</th>\n",
       "      <td>1</td>\n",
       "      <td>Toy Story (1995)</td>\n",
       "      <td>Adventure|Animation|Children|Comedy|Fantasy</td>\n",
       "    </tr>\n",
       "    <tr>\n",
       "      <th>1</th>\n",
       "      <td>2</td>\n",
       "      <td>Jumanji (1995)</td>\n",
       "      <td>Adventure|Children|Fantasy</td>\n",
       "    </tr>\n",
       "    <tr>\n",
       "      <th>2</th>\n",
       "      <td>3</td>\n",
       "      <td>Grumpier Old Men (1995)</td>\n",
       "      <td>Comedy|Romance</td>\n",
       "    </tr>\n",
       "    <tr>\n",
       "      <th>3</th>\n",
       "      <td>4</td>\n",
       "      <td>Waiting to Exhale (1995)</td>\n",
       "      <td>Comedy|Drama|Romance</td>\n",
       "    </tr>\n",
       "    <tr>\n",
       "      <th>4</th>\n",
       "      <td>5</td>\n",
       "      <td>Father of the Bride Part II (1995)</td>\n",
       "      <td>Comedy</td>\n",
       "    </tr>\n",
       "  </tbody>\n",
       "</table>\n",
       "</div>"
      ],
      "text/plain": [
       "   movieId                               title  \\\n",
       "0        1                    Toy Story (1995)   \n",
       "1        2                      Jumanji (1995)   \n",
       "2        3             Grumpier Old Men (1995)   \n",
       "3        4            Waiting to Exhale (1995)   \n",
       "4        5  Father of the Bride Part II (1995)   \n",
       "\n",
       "                                        genres  \n",
       "0  Adventure|Animation|Children|Comedy|Fantasy  \n",
       "1                   Adventure|Children|Fantasy  \n",
       "2                               Comedy|Romance  \n",
       "3                         Comedy|Drama|Romance  \n",
       "4                                       Comedy  "
      ]
     },
     "execution_count": 3,
     "metadata": {},
     "output_type": "execute_result"
    }
   ],
   "source": [
    "data.head()"
   ]
  },
  {
   "cell_type": "code",
   "execution_count": 7,
   "metadata": {},
   "outputs": [
    {
     "data": {
      "text/plain": [
       "(9742, 3)"
      ]
     },
     "execution_count": 7,
     "metadata": {},
     "output_type": "execute_result"
    }
   ],
   "source": [
    "data.shape\n"
   ]
  },
  {
   "cell_type": "code",
   "execution_count": 9,
   "metadata": {},
   "outputs": [],
   "source": [
    "data1=pd.read_csv(\"C:/Users/aarsh/OneDrive/Desktop/ratings.csv\")"
   ]
  },
  {
   "cell_type": "code",
   "execution_count": 10,
   "metadata": {},
   "outputs": [
    {
     "data": {
      "text/plain": [
       "(100836, 4)"
      ]
     },
     "execution_count": 10,
     "metadata": {},
     "output_type": "execute_result"
    }
   ],
   "source": [
    "data1.shape"
   ]
  },
  {
   "cell_type": "code",
   "execution_count": 12,
   "metadata": {},
   "outputs": [
    {
     "data": {
      "text/plain": [
       "610"
      ]
     },
     "execution_count": 12,
     "metadata": {},
     "output_type": "execute_result"
    }
   ],
   "source": [
    "# Find the number of unique userId values\n",
    "unique_user_ids = data1['userId'].nunique()\n",
    "unique_user_ids"
   ]
  },
  {
   "cell_type": "code",
   "execution_count": 19,
   "metadata": {},
   "outputs": [
    {
     "name": "stdout",
     "output_type": "stream",
     "text": [
      "Movie ID 1 has received the maximum number of ratings: 1.\n"
     ]
    }
   ],
   "source": [
    "# Group by 'movieId' and count the number of ratings for each movie\n",
    "movie_ratings_count = data.groupby('movieId').size()\n",
    "\n",
    "# Find the movie with the maximum number of ratings\n",
    "max_rated_movie_id = movie_ratings_count.idxmax()\n",
    "max_ratings = movie_ratings_count.max()\n",
    "\n",
    "print(f'Movie ID {max_rated_movie_id} has received the maximum number of ratings: {max_ratings}.')"
   ]
  },
  {
   "cell_type": "code",
   "execution_count": 20,
   "metadata": {},
   "outputs": [
    {
     "name": "stdout",
     "output_type": "stream",
     "text": [
      "The movie with the maximum number of ratings is \"Toy Story (1995)\" with 1 ratings.\n"
     ]
    }
   ],
   "source": [
    "# Merge with the movie title\n",
    "max_rated_movie_title = data.loc[data['movieId'] == max_rated_movie_id, 'title'].values[0]\n",
    "\n",
    "print(f'The movie with the maximum number of ratings is \"{max_rated_movie_title}\" with {max_ratings} ratings.')"
   ]
  },
  {
   "cell_type": "code",
   "execution_count": 18,
   "metadata": {},
   "outputs": [
    {
     "data": {
      "text/html": [
       "<div>\n",
       "<style scoped>\n",
       "    .dataframe tbody tr th:only-of-type {\n",
       "        vertical-align: middle;\n",
       "    }\n",
       "\n",
       "    .dataframe tbody tr th {\n",
       "        vertical-align: top;\n",
       "    }\n",
       "\n",
       "    .dataframe thead th {\n",
       "        text-align: right;\n",
       "    }\n",
       "</style>\n",
       "<table border=\"1\" class=\"dataframe\">\n",
       "  <thead>\n",
       "    <tr style=\"text-align: right;\">\n",
       "      <th></th>\n",
       "      <th>movieId</th>\n",
       "      <th>title</th>\n",
       "      <th>genres</th>\n",
       "    </tr>\n",
       "  </thead>\n",
       "  <tbody>\n",
       "    <tr>\n",
       "      <th>0</th>\n",
       "      <td>1</td>\n",
       "      <td>Toy Story (1995)</td>\n",
       "      <td>Adventure|Animation|Children|Comedy|Fantasy</td>\n",
       "    </tr>\n",
       "    <tr>\n",
       "      <th>1</th>\n",
       "      <td>2</td>\n",
       "      <td>Jumanji (1995)</td>\n",
       "      <td>Adventure|Children|Fantasy</td>\n",
       "    </tr>\n",
       "    <tr>\n",
       "      <th>2</th>\n",
       "      <td>3</td>\n",
       "      <td>Grumpier Old Men (1995)</td>\n",
       "      <td>Comedy|Romance</td>\n",
       "    </tr>\n",
       "    <tr>\n",
       "      <th>3</th>\n",
       "      <td>4</td>\n",
       "      <td>Waiting to Exhale (1995)</td>\n",
       "      <td>Comedy|Drama|Romance</td>\n",
       "    </tr>\n",
       "    <tr>\n",
       "      <th>4</th>\n",
       "      <td>5</td>\n",
       "      <td>Father of the Bride Part II (1995)</td>\n",
       "      <td>Comedy</td>\n",
       "    </tr>\n",
       "  </tbody>\n",
       "</table>\n",
       "</div>"
      ],
      "text/plain": [
       "   movieId                               title  \\\n",
       "0        1                    Toy Story (1995)   \n",
       "1        2                      Jumanji (1995)   \n",
       "2        3             Grumpier Old Men (1995)   \n",
       "3        4            Waiting to Exhale (1995)   \n",
       "4        5  Father of the Bride Part II (1995)   \n",
       "\n",
       "                                        genres  \n",
       "0  Adventure|Animation|Children|Comedy|Fantasy  \n",
       "1                   Adventure|Children|Fantasy  \n",
       "2                               Comedy|Romance  \n",
       "3                         Comedy|Drama|Romance  \n",
       "4                                       Comedy  "
      ]
     },
     "execution_count": 18,
     "metadata": {},
     "output_type": "execute_result"
    }
   ],
   "source": [
    "data.head()"
   ]
  },
  {
   "cell_type": "code",
   "execution_count": 27,
   "metadata": {},
   "outputs": [
    {
     "name": "stdout",
     "output_type": "stream",
     "text": [
      "All tags submitted for \"Matrix, The (1999)\": ['martial arts' 'sci-fi' 'alternate universe' 'philosophy'\n",
      " 'post apocalyptic']\n"
     ]
    }
   ],
   "source": [
    "# Load the movies and tags CSV files\n",
    "movies_df = pd.read_csv('C:/Users/aarsh/OneDrive/Desktop/movies.csv')\n",
    "tags_df = pd.read_csv('C:/Users/aarsh/OneDrive/Desktop/tags.csv')\n",
    "\n",
    "# Find the movieId for \"Matrix, The (1999)\"\n",
    "matrix_movie_id = movies_df.loc[movies_df['title'] == 'Matrix, The (1999)', 'movieId'].values[0]\n",
    "\n",
    "# Filter the tags submitted for this movie\n",
    "matrix_tags = tags_df[tags_df['movieId'] == matrix_movie_id]\n",
    "\n",
    "# Get all unique tags submitted by users\n",
    "unique_tags = matrix_tags['tag'].unique()\n",
    "\n",
    "print(f'All tags submitted for \"Matrix, The (1999)\": {unique_tags}')"
   ]
  },
  {
   "cell_type": "code",
   "execution_count": 28,
   "metadata": {},
   "outputs": [
    {
     "name": "stdout",
     "output_type": "stream",
     "text": [
      "The average user rating for \"Terminator 2: Judgment Day (1991)\" is 3.97.\n"
     ]
    }
   ],
   "source": [
    "# Find the movieId for \"Terminator 2: Judgment Day (1991)\"\n",
    "terminator_movie_id = movies_df.loc[movies_df['title'] == 'Terminator 2: Judgment Day (1991)', 'movieId'].values[0]\n",
    "\n",
    "# Filter the ratings for this movie\n",
    "terminator_ratings = data1[data1['movieId'] == terminator_movie_id]\n",
    "\n",
    "# Calculate the average rating\n",
    "average_rating = terminator_ratings['rating'].mean()\n",
    "\n",
    "print(f'The average user rating for \"Terminator 2: Judgment Day (1991)\" is {average_rating:.2f}.')"
   ]
  },
  {
   "cell_type": "code",
   "execution_count": 31,
   "metadata": {},
   "outputs": [
    {
     "data": {
      "image/png": "[encoded data removed]",
      "text/plain": [
       "<Figure size 640x480 with 1 Axes>"
      ]
     },
     "metadata": {},
     "output_type": "display_data"
    }
   ],
   "source": [
    "4\n",
    "import matplotlib.pyplot as plt# Find the movieId for \"Fight Club (1999)\"\n",
    "fight_club_movie_id = movies_df.loc[movies_df['title'] == 'Fight Club (1999)', 'movieId'].values[0]\n",
    "\n",
    "# Filter the ratings for this movie\n",
    "fight_club_ratings = data1[data1['movieId'] == fight_club_movie_id]\n",
    "\n",
    "# Plot the distribution of ratings\n",
    "plt.hist(fight_club_ratings['rating'], bins=10, edgecolor='black')\n",
    "plt.title('Distribution of User Ratings for \"Fight Club (1999)\"')\n",
    "plt.xlabel('Rating')\n",
    "plt.ylabel('Frequency')\n",
    "plt.grid(True)\n",
    "plt.show()"
   ]
  },
  {
   "cell_type": "code",
   "execution_count": 32,
   "metadata": {},
   "outputs": [
    {
     "name": "stdout",
     "output_type": "stream",
     "text": [
      "The most popular movie based on average user ratings is \"Shawshank Redemption, The (1994)\" with an average rating of 4.43.\n"
     ]
    }
   ],
   "source": [
    "# List of movie titles to check\n",
    "movies_to_check = ['Godfather, The (1972)', 'Shawshank Redemption, The (1994)', 'Jumanji (1995)', 'Wolf of Wall Street, The (2013)']\n",
    "\n",
    "# Filter the movies DataFrame to get the movieIds for the given titles\n",
    "filtered_movies = movies_df[movies_df['title'].isin(movies_to_check)]\n",
    "\n",
    "# Initialize a dictionary to store the average ratings\n",
    "average_ratings = {}\n",
    "\n",
    "# Calculate the average rating for each movie\n",
    "for index, row in filtered_movies.iterrows():\n",
    "    movie_id = row['movieId']\n",
    "    movie_title = row['title']\n",
    "    movie_ratings = data1[data1['movieId'] == movie_id]['rating']\n",
    "    average_ratings[movie_title] = movie_ratings.mean()\n",
    "\n",
    "# Find the movie with the highest average rating\n",
    "most_popular_movie = max(average_ratings, key=average_ratings.get)\n",
    "highest_rating = average_ratings[most_popular_movie]\n",
    "\n",
    "print(f'The most popular movie based on average user ratings is \"{most_popular_movie}\" with an average rating of {highest_rating:.2f}.')"
   ]
  },
  {
   "cell_type": "code",
   "execution_count": 34,
   "metadata": {},
   "outputs": [
    {
     "name": "stdout",
     "output_type": "stream",
     "text": [
      "The movies that are in the top 5 most popular based on number of user ratings are: ['Pulp Fiction (1994)', 'Silence of the Lambs, The (1991)', 'Matrix, The (1999)']\n"
     ]
    }
   ],
   "source": [
    "# Count the number of ratings for each movie\n",
    "ratings_count = data1.groupby('movieId').size().reset_index(name='count')\n",
    "\n",
    "# Merge the ratings count with the movies DataFrame to get movie titles\n",
    "merged_df = pd.merge(ratings_count, movies_df, on='movieId')\n",
    "\n",
    "# Sort the movies based on the number of ratings in descending order\n",
    "sorted_movies = merged_df.sort_values(by='count', ascending=False)\n",
    "\n",
    "# Identify the top 5 movies based on the number of ratings\n",
    "top_5_movies = sorted_movies.head(5)['title'].tolist()\n",
    "\n",
    "# List of movies to check\n",
    "movies_to_check = ['Pulp Fiction (1994)', 'Bad Boys (1995)', 'Silence of the Lambs, The (1991)', 'Matrix, The (1999)']\n",
    "\n",
    "# Check which of these movies are in the top 5\n",
    "correct_options = [movie for movie in movies_to_check if movie in top_5_movies]\n",
    "\n",
    "print(f'The movies that are in the top 5 most popular based on number of user ratings are: {correct_options}')"
   ]
  },
  {
   "cell_type": "code",
   "execution_count": 35,
   "metadata": {},
   "outputs": [
    {
     "name": "stdout",
     "output_type": "stream",
     "text": [
      "The third most popular Sci-Fi movie based on the number of user ratings is \"Jurassic Park (1993)\".\n"
     ]
    }
   ],
   "source": [
    "# Filter the movies to include only those tagged with the Sci-Fi genre\n",
    "sci_fi_movies_df = movies_df[movies_df['genres'].str.contains('Sci-Fi')]\n",
    "\n",
    "# Count the number of ratings for each Sci-Fi movie\n",
    "sci_fi_ratings_count = data1[data1['movieId'].isin(sci_fi_movies_df['movieId'])] \\\n",
    "                                    .groupby('movieId') \\\n",
    "                                    .size() \\\n",
    "                                    .reset_index(name='count')\n",
    "\n",
    "# Merge the Sci-Fi movies with their rating counts\n",
    "sci_fi_movies_with_ratings = pd.merge(sci_fi_ratings_count, sci_fi_movies_df, on='movieId')\n",
    "\n",
    "# Sort the Sci-Fi movies based on the number of ratings in descending order\n",
    "sorted_sci_fi_movies = sci_fi_movies_with_ratings.sort_values(by='count', ascending=False)\n",
    "\n",
    "# Identify the third most popular Sci-Fi movie\n",
    "third_most_popular_sci_fi = sorted_sci_fi_movies.iloc[2]  # Index 2 corresponds to the third most popular\n",
    "\n",
    "print(f'The third most popular Sci-Fi movie based on the number of user ratings is \"{third_most_popular_sci_fi[\"title\"]}\".')"
   ]
  },
  {
   "cell_type": "code",
   "execution_count": 43,
   "metadata": {},
   "outputs": [
    {
     "name": "stdout",
     "output_type": "stream",
     "text": [
      "Index(['userId', 'movieId', 'rating', 'timestamp'], dtype='object')\n"
     ]
    },
    {
     "data": {
      "text/html": [
       "<div>\n",
       "<style scoped>\n",
       "    .dataframe tbody tr th:only-of-type {\n",
       "        vertical-align: middle;\n",
       "    }\n",
       "\n",
       "    .dataframe tbody tr th {\n",
       "        vertical-align: top;\n",
       "    }\n",
       "\n",
       "    .dataframe thead th {\n",
       "        text-align: right;\n",
       "    }\n",
       "</style>\n",
       "<table border=\"1\" class=\"dataframe\">\n",
       "  <thead>\n",
       "    <tr style=\"text-align: right;\">\n",
       "      <th></th>\n",
       "      <th>userId</th>\n",
       "      <th>movieId</th>\n",
       "      <th>rating</th>\n",
       "      <th>timestamp</th>\n",
       "    </tr>\n",
       "  </thead>\n",
       "  <tbody>\n",
       "    <tr>\n",
       "      <th>0</th>\n",
       "      <td>1</td>\n",
       "      <td>1</td>\n",
       "      <td>4.0</td>\n",
       "      <td>964982703</td>\n",
       "    </tr>\n",
       "    <tr>\n",
       "      <th>1</th>\n",
       "      <td>1</td>\n",
       "      <td>3</td>\n",
       "      <td>4.0</td>\n",
       "      <td>964981247</td>\n",
       "    </tr>\n",
       "    <tr>\n",
       "      <th>2</th>\n",
       "      <td>1</td>\n",
       "      <td>6</td>\n",
       "      <td>4.0</td>\n",
       "      <td>964982224</td>\n",
       "    </tr>\n",
       "    <tr>\n",
       "      <th>3</th>\n",
       "      <td>1</td>\n",
       "      <td>47</td>\n",
       "      <td>5.0</td>\n",
       "      <td>964983815</td>\n",
       "    </tr>\n",
       "    <tr>\n",
       "      <th>4</th>\n",
       "      <td>1</td>\n",
       "      <td>50</td>\n",
       "      <td>5.0</td>\n",
       "      <td>964982931</td>\n",
       "    </tr>\n",
       "  </tbody>\n",
       "</table>\n",
       "</div>"
      ],
      "text/plain": [
       "   userId  movieId  rating  timestamp\n",
       "0       1        1     4.0  964982703\n",
       "1       1        3     4.0  964981247\n",
       "2       1        6     4.0  964982224\n",
       "3       1       47     5.0  964983815\n",
       "4       1       50     5.0  964982931"
      ]
     },
     "execution_count": 43,
     "metadata": {},
     "output_type": "execute_result"
    }
   ],
   "source": [
    "import pandas as pd\n",
    "\n",
    "\n",
    "\n",
    "# Print the column names to verify\n",
    "print(data1.columns)\n",
    "data1.head()"
   ]
  }
 ],
 "metadata": {
  "kernelspec": {
   "display_name": "Python 3",
   "language": "python",
   "name": "python3"
  },
  "language_info": {
   "codemirror_mode": {
    "name": "ipython",
    "version": 3
   },
   "file_extension": ".py",
   "mimetype": "text/x-python",
   "name": "python",
   "nbconvert_exporter": "python",
   "pygments_lexer": "ipython3",
   "version": "3.9.13"
  }
 },
 "nbformat": 4,
 "nbformat_minor": 2
}
